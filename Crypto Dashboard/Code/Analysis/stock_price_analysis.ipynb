{
 "cells": [
  {
   "cell_type": "code",
   "execution_count": 10,
   "metadata": {},
   "outputs": [],
   "source": [
    "import pandas as pd\n",
    "import yfinance as yf\n",
    "import requests"
   ]
  },
  {
   "cell_type": "code",
   "execution_count": 4,
   "metadata": {},
   "outputs": [],
   "source": [
    "def get_stock_data(ticker):\n",
    "    stock = yf.Ticker(ticker)\n",
    "    stock_info = stock.info\n",
    "    historical_data = stock.history(period=\"1d\")\n",
    "\n",
    "    print(\"Stock Ticker:\", ticker)\n",
    "    print(\"Company Name:\", stock_info.get('longName', 'N/A'))\n",
    "    print(\"Current Price:\", stock_info.get('currentPrice', 'N/A'))\n",
    "    print(\"Previous Close:\", stock_info.get('previousClose', 'N/A'))\n",
    "    print(\"Open:\", stock_info.get('open', 'N/A'))\n",
    "    print(\"Day High:\", stock_info.get('dayHigh', 'N/A'))\n",
    "    print(\"Day Low:\", stock_info.get('dayLow', 'N/A'))\n",
    "    print(\"Volume:\", stock_info.get('volume', 'N/A'))\n",
    "    print(\"Market Cap:\", stock_info.get('marketCap', 'N/A'))\n",
    "    print(\"Historical Data:\", historical_data.to_dict())\n",
    "\n",
    "    return historical_data\n",
    "\n"
   ]
  },
  {
   "cell_type": "code",
   "execution_count": 12,
   "metadata": {},
   "outputs": [],
   "source": [
    "def get_all_stock_tickers(api_key):\n",
    "    url = f'https://www.alphavantage.co/query?function=LISTING_STATUS&apikey={api_key}'\n",
    "    response = requests.get(url)\n",
    "    data = response.json()\n",
    "\n",
    "    # Convert to DataFrame\n",
    "    stock_list = pd.DataFrame(data)\n",
    "    return stock_list"
   ]
  },
  {
   "cell_type": "code",
   "execution_count": 16,
   "metadata": {},
   "outputs": [
    {
     "name": "stdout",
     "output_type": "stream",
     "text": [
      "{'Meta Data': {'1. Information': 'Intraday (5min) open, high, low, close prices and volume', '2. Symbol': 'IBM', '3. Last Refreshed': '2024-06-07 19:55:00', '4. Interval': '5min', '5. Output Size': 'Compact', '6. Time Zone': 'US/Eastern'}, 'Time Series (5min)': {'2024-06-07 19:55:00': {'1. open': '169.9600', '2. high': '169.9600', '3. low': '169.6000', '4. close': '169.6100', '5. volume': '225'}, '2024-06-07 19:45:00': {'1. open': '169.9700', '2. high': '169.9700', '3. low': '169.5200', '4. close': '169.5200', '5. volume': '31'}, '2024-06-07 19:40:00': {'1. open': '170.0000', '2. high': '170.0000', '3. low': '169.8600', '4. close': '169.9700', '5. volume': '101'}, '2024-06-07 19:35:00': {'1. open': '169.4200', '2. high': '169.4200', '3. low': '169.4200', '4. close': '169.4200', '5. volume': '10'}, '2024-06-07 19:20:00': {'1. open': '169.3500', '2. high': '169.3500', '3. low': '169.3500', '4. close': '169.3500', '5. volume': '10'}, '2024-06-07 19:10:00': {'1. open': '169.8900', '2. high': '169.8900', '3. low': '169.3400', '4. close': '169.3400', '5. volume': '3'}, '2024-06-07 19:00:00': {'1. open': '170.0100', '2. high': '170.0100', '3. low': '170.0100', '4. close': '170.0100', '5. volume': '505214'}, '2024-06-07 18:55:00': {'1. open': '169.2500', '2. high': '169.2500', '3. low': '169.2500', '4. close': '169.2500', '5. volume': '331'}, '2024-06-07 18:40:00': {'1. open': '169.2500', '2. high': '169.2500', '3. low': '169.2500', '4. close': '169.2500', '5. volume': '30'}, '2024-06-07 18:35:00': {'1. open': '169.6000', '2. high': '169.6000', '3. low': '169.2500', '4. close': '169.2500', '5. volume': '100'}, '2024-06-07 18:30:00': {'1. open': '170.0100', '2. high': '170.0100', '3. low': '169.6000', '4. close': '169.6000', '5. volume': '505234'}, '2024-06-07 18:20:00': {'1. open': '169.6000', '2. high': '170.0000', '3. low': '169.6000', '4. close': '170.0000', '5. volume': '51'}, '2024-06-07 18:15:00': {'1. open': '170.0000', '2. high': '170.0000', '3. low': '170.0000', '4. close': '170.0000', '5. volume': '5'}, '2024-06-07 17:55:00': {'1. open': '170.0000', '2. high': '170.0000', '3. low': '168.0200', '4. close': '168.0200', '5. volume': '20'}, '2024-06-07 17:50:00': {'1. open': '169.9000', '2. high': '169.9000', '3. low': '169.8600', '4. close': '169.8600', '5. volume': '321'}, '2024-06-07 17:45:00': {'1. open': '170.0000', '2. high': '170.0000', '3. low': '170.0000', '4. close': '170.0000', '5. volume': '16'}, '2024-06-07 17:40:00': {'1. open': '170.1900', '2. high': '170.1900', '3. low': '170.1900', '4. close': '170.1900', '5. volume': '1'}, '2024-06-07 17:35:00': {'1. open': '170.3700', '2. high': '170.4500', '3. low': '170.3700', '4. close': '170.4500', '5. volume': '26'}, '2024-06-07 17:20:00': {'1. open': '170.2870', '2. high': '170.2870', '3. low': '170.2870', '4. close': '170.2870', '5. volume': '8'}, '2024-06-07 17:15:00': {'1. open': '170.2500', '2. high': '170.2500', '3. low': '170.0100', '4. close': '170.0100', '5. volume': '45'}, '2024-06-07 17:10:00': {'1. open': '170.0100', '2. high': '170.4180', '3. low': '170.0000', '4. close': '170.0000', '5. volume': '148'}, '2024-06-07 17:05:00': {'1. open': '169.9000', '2. high': '170.0500', '3. low': '169.9000', '4. close': '170.0500', '5. volume': '72'}, '2024-06-07 17:00:00': {'1. open': '170.0100', '2. high': '170.0100', '3. low': '170.0100', '4. close': '170.0100', '5. volume': '44'}, '2024-06-07 16:55:00': {'1. open': '170.0100', '2. high': '181.9120', '3. low': '169.8600', '4. close': '181.9120', '5. volume': '752'}, '2024-06-07 16:50:00': {'1. open': '170.2500', '2. high': '170.2500', '3. low': '170.0000', '4. close': '170.0000', '5. volume': '11'}, '2024-06-07 16:45:00': {'1. open': '170.0100', '2. high': '170.0100', '3. low': '170.0100', '4. close': '170.0100', '5. volume': '4'}, '2024-06-07 16:40:00': {'1. open': '170.0100', '2. high': '170.0100', '3. low': '170.0100', '4. close': '170.0100', '5. volume': '9755'}, '2024-06-07 16:35:00': {'1. open': '170.4000', '2. high': '170.4000', '3. low': '170.4000', '4. close': '170.4000', '5. volume': '1'}, '2024-06-07 16:30:00': {'1. open': '170.0200', '2. high': '170.0200', '3. low': '169.8500', '4. close': '169.8500', '5. volume': '16'}, '2024-06-07 16:25:00': {'1. open': '170.4450', '2. high': '170.4450', '3. low': '170.4450', '4. close': '170.4450', '5. volume': '29'}, '2024-06-07 16:20:00': {'1. open': '170.0100', '2. high': '170.0100', '3. low': '170.0100', '4. close': '170.0100', '5. volume': '192'}, '2024-06-07 16:15:00': {'1. open': '170.0100', '2. high': '170.4000', '3. low': '170.0100', '4. close': '170.0100', '5. volume': '10423'}, '2024-06-07 16:10:00': {'1. open': '170.0100', '2. high': '170.1300', '3. low': '170.0100', '4. close': '170.1300', '5. volume': '513415'}, '2024-06-07 16:05:00': {'1. open': '170.5000', '2. high': '170.5000', '3. low': '169.7500', '4. close': '169.8600', '5. volume': '163'}, '2024-06-07 16:00:00': {'1. open': '170.0370', '2. high': '170.5000', '3. low': '169.0620', '4. close': '170.0100', '5. volume': '1130403'}, '2024-06-07 15:55:00': {'1. open': '170.1100', '2. high': '170.2000', '3. low': '170.0000', '4. close': '170.0500', '5. volume': '260200'}, '2024-06-07 15:50:00': {'1. open': '170.0700', '2. high': '170.2800', '3. low': '170.0000', '4. close': '170.0950', '5. volume': '131101'}, '2024-06-07 15:45:00': {'1. open': '170.2050', '2. high': '170.2790', '3. low': '170.0800', '4. close': '170.0800', '5. volume': '51949'}, '2024-06-07 15:40:00': {'1. open': '170.2500', '2. high': '170.2800', '3. low': '170.0800', '4. close': '170.2300', '5. volume': '37933'}, '2024-06-07 15:35:00': {'1. open': '170.2600', '2. high': '170.3400', '3. low': '170.1880', '4. close': '170.2000', '5. volume': '23602'}, '2024-06-07 15:30:00': {'1. open': '170.1400', '2. high': '170.3800', '3. low': '170.0500', '4. close': '170.2850', '5. volume': '39298'}, '2024-06-07 15:25:00': {'1. open': '170.0800', '2. high': '170.1800', '3. low': '170.0700', '4. close': '170.1600', '5. volume': '21581'}, '2024-06-07 15:20:00': {'1. open': '170.1700', '2. high': '170.2100', '3. low': '170.0400', '4. close': '170.1300', '5. volume': '24312'}, '2024-06-07 15:15:00': {'1. open': '170.1600', '2. high': '170.3500', '3. low': '170.1100', '4. close': '170.1690', '5. volume': '20883'}, '2024-06-07 15:10:00': {'1. open': '170.2400', '2. high': '170.3800', '3. low': '170.0000', '4. close': '170.1300', '5. volume': '37419'}, '2024-06-07 15:05:00': {'1. open': '170.4200', '2. high': '170.4200', '3. low': '170.1700', '4. close': '170.2300', '5. volume': '24192'}, '2024-06-07 15:00:00': {'1. open': '170.4900', '2. high': '170.6100', '3. low': '170.3800', '4. close': '170.4500', '5. volume': '40892'}, '2024-06-07 14:55:00': {'1. open': '170.6200', '2. high': '170.6200', '3. low': '170.4300', '4. close': '170.5080', '5. volume': '63203'}, '2024-06-07 14:50:00': {'1. open': '170.5300', '2. high': '170.5900', '3. low': '170.4300', '4. close': '170.5550', '5. volume': '18113'}, '2024-06-07 14:45:00': {'1. open': '170.5350', '2. high': '170.5700', '3. low': '170.4700', '4. close': '170.5350', '5. volume': '16979'}, '2024-06-07 14:40:00': {'1. open': '170.4150', '2. high': '170.5450', '3. low': '170.4040', '4. close': '170.5450', '5. volume': '17809'}, '2024-06-07 14:35:00': {'1. open': '170.3080', '2. high': '170.4550', '3. low': '170.3080', '4. close': '170.4150', '5. volume': '14154'}, '2024-06-07 14:30:00': {'1. open': '170.1900', '2. high': '170.4100', '3. low': '170.1600', '4. close': '170.3400', '5. volume': '19788'}, '2024-06-07 14:25:00': {'1. open': '170.1400', '2. high': '170.2700', '3. low': '170.1400', '4. close': '170.2000', '5. volume': '14089'}, '2024-06-07 14:20:00': {'1. open': '169.9400', '2. high': '170.2800', '3. low': '169.9380', '4. close': '170.1550', '5. volume': '20773'}, '2024-06-07 14:15:00': {'1. open': '169.7950', '2. high': '170.0000', '3. low': '169.7400', '4. close': '169.9600', '5. volume': '31550'}, '2024-06-07 14:10:00': {'1. open': '169.9800', '2. high': '170.0000', '3. low': '169.7600', '4. close': '169.8000', '5. volume': '36995'}, '2024-06-07 14:05:00': {'1. open': '170.1700', '2. high': '170.1700', '3. low': '169.9200', '4. close': '169.9800', '5. volume': '20169'}, '2024-06-07 14:00:00': {'1. open': '170.5200', '2. high': '170.5300', '3. low': '170.1900', '4. close': '170.2000', '5. volume': '17692'}, '2024-06-07 13:55:00': {'1. open': '170.5000', '2. high': '170.6760', '3. low': '170.4600', '4. close': '170.5240', '5. volume': '23879'}, '2024-06-07 13:50:00': {'1. open': '170.6000', '2. high': '170.6500', '3. low': '170.5500', '4. close': '170.5500', '5. volume': '14388'}, '2024-06-07 13:45:00': {'1. open': '170.6300', '2. high': '170.7000', '3. low': '170.5700', '4. close': '170.5700', '5. volume': '13196'}, '2024-06-07 13:40:00': {'1. open': '170.8500', '2. high': '170.8500', '3. low': '170.6400', '4. close': '170.6500', '5. volume': '23584'}, '2024-06-07 13:35:00': {'1. open': '171.0000', '2. high': '171.0000', '3. low': '170.8150', '4. close': '170.8400', '5. volume': '17427'}, '2024-06-07 13:30:00': {'1. open': '171.0600', '2. high': '171.1400', '3. low': '170.9950', '4. close': '171.0500', '5. volume': '39441'}, '2024-06-07 13:25:00': {'1. open': '171.2100', '2. high': '171.2100', '3. low': '171.0000', '4. close': '171.0650', '5. volume': '46621'}, '2024-06-07 13:20:00': {'1. open': '170.9200', '2. high': '171.3050', '3. low': '170.8900', '4. close': '171.2200', '5. volume': '28057'}, '2024-06-07 13:15:00': {'1. open': '170.9850', '2. high': '171.0000', '3. low': '170.8800', '4. close': '170.9300', '5. volume': '26901'}, '2024-06-07 13:10:00': {'1. open': '170.6050', '2. high': '171.0000', '3. low': '170.6050', '4. close': '170.9850', '5. volume': '48939'}, '2024-06-07 13:05:00': {'1. open': '170.5700', '2. high': '170.7250', '3. low': '170.5700', '4. close': '170.6200', '5. volume': '26835'}, '2024-06-07 13:00:00': {'1. open': '170.8150', '2. high': '170.8150', '3. low': '170.4900', '4. close': '170.6100', '5. volume': '21153'}, '2024-06-07 12:55:00': {'1. open': '170.6800', '2. high': '170.8250', '3. low': '170.6800', '4. close': '170.7800', '5. volume': '30086'}, '2024-06-07 12:50:00': {'1. open': '170.5350', '2. high': '170.7500', '3. low': '170.5300', '4. close': '170.6710', '5. volume': '27811'}, '2024-06-07 12:45:00': {'1. open': '170.5900', '2. high': '170.6000', '3. low': '170.4750', '4. close': '170.5350', '5. volume': '24490'}, '2024-06-07 12:40:00': {'1. open': '170.3200', '2. high': '170.6000', '3. low': '170.3150', '4. close': '170.5650', '5. volume': '21566'}, '2024-06-07 12:35:00': {'1. open': '170.4250', '2. high': '170.4250', '3. low': '170.2700', '4. close': '170.3200', '5. volume': '37257'}, '2024-06-07 12:30:00': {'1. open': '170.4650', '2. high': '170.6100', '3. low': '170.4100', '4. close': '170.4300', '5. volume': '34487'}, '2024-06-07 12:25:00': {'1. open': '170.4000', '2. high': '170.4600', '3. low': '170.3100', '4. close': '170.4600', '5. volume': '21068'}, '2024-06-07 12:20:00': {'1. open': '170.2700', '2. high': '170.4100', '3. low': '170.2650', '4. close': '170.3950', '5. volume': '30325'}, '2024-06-07 12:15:00': {'1. open': '170.3600', '2. high': '170.4500', '3. low': '170.2700', '4. close': '170.2750', '5. volume': '23389'}, '2024-06-07 12:10:00': {'1. open': '170.3650', '2. high': '170.4300', '3. low': '170.3400', '4. close': '170.3600', '5. volume': '31051'}, '2024-06-07 12:05:00': {'1. open': '170.1650', '2. high': '170.3700', '3. low': '170.1300', '4. close': '170.3700', '5. volume': '42631'}, '2024-06-07 12:00:00': {'1. open': '170.0750', '2. high': '170.1600', '3. low': '169.9900', '4. close': '170.1550', '5. volume': '23075'}, '2024-06-07 11:55:00': {'1. open': '170.1200', '2. high': '170.2330', '3. low': '170.0600', '4. close': '170.0900', '5. volume': '37056'}, '2024-06-07 11:50:00': {'1. open': '170.1900', '2. high': '170.1900', '3. low': '170.0800', '4. close': '170.1050', '5. volume': '20793'}, '2024-06-07 11:45:00': {'1. open': '170.0500', '2. high': '170.2050', '3. low': '170.0500', '4. close': '170.1950', '5. volume': '18457'}, '2024-06-07 11:40:00': {'1. open': '169.9900', '2. high': '170.0700', '3. low': '169.9700', '4. close': '170.0420', '5. volume': '25550'}, '2024-06-07 11:35:00': {'1. open': '170.0750', '2. high': '170.1000', '3. low': '169.8800', '4. close': '169.9900', '5. volume': '20539'}, '2024-06-07 11:30:00': {'1. open': '170.0350', '2. high': '170.1240', '3. low': '170.0000', '4. close': '170.0920', '5. volume': '16268'}, '2024-06-07 11:25:00': {'1. open': '170.0200', '2. high': '170.0700', '3. low': '169.9600', '4. close': '170.0400', '5. volume': '29848'}, '2024-06-07 11:20:00': {'1. open': '169.5350', '2. high': '170.0400', '3. low': '169.5100', '4. close': '170.0400', '5. volume': '36966'}, '2024-06-07 11:15:00': {'1. open': '169.5400', '2. high': '169.6800', '3. low': '169.4600', '4. close': '169.5200', '5. volume': '33915'}, '2024-06-07 11:10:00': {'1. open': '169.3900', '2. high': '169.5800', '3. low': '169.3300', '4. close': '169.5250', '5. volume': '22258'}, '2024-06-07 11:05:00': {'1. open': '169.7780', '2. high': '169.7780', '3. low': '169.3750', '4. close': '169.4000', '5. volume': '28630'}, '2024-06-07 11:00:00': {'1. open': '170.0400', '2. high': '170.0400', '3. low': '169.7200', '4. close': '169.7800', '5. volume': '62427'}, '2024-06-07 10:55:00': {'1. open': '170.1500', '2. high': '170.2400', '3. low': '169.9900', '4. close': '170.0000', '5. volume': '42787'}, '2024-06-07 10:50:00': {'1. open': '170.2650', '2. high': '170.2900', '3. low': '170.0500', '4. close': '170.1850', '5. volume': '31149'}, '2024-06-07 10:45:00': {'1. open': '170.1400', '2. high': '170.3500', '3. low': '170.0300', '4. close': '170.2700', '5. volume': '41939'}, '2024-06-07 10:40:00': {'1. open': '169.9900', '2. high': '170.1900', '3. low': '169.8850', '4. close': '170.1350', '5. volume': '54729'}, '2024-06-07 10:35:00': {'1. open': '169.6400', '2. high': '169.9900', '3. low': '169.6350', '4. close': '169.9700', '5. volume': '59531'}}}\n"
     ]
    }
   ],
   "source": [
    "import requests\n",
    "\n",
    "# replace the \"demo\" apikey below with your own key from https://www.alphavantage.co/support/#api-key\n",
    "url = 'https://www.alphavantage.co/query?function=TIME_SERIES_INTRADAY&symbol=IBM&interval=5min&apikey=demo'\n",
    "r = requests.get(url)\n",
    "data = r.json()\n",
    "\n",
    "print(data)\n"
   ]
  },
  {
   "cell_type": "code",
   "execution_count": 14,
   "metadata": {},
   "outputs": [
    {
     "ename": "JSONDecodeError",
     "evalue": "Expecting value: line 1 column 1 (char 0)",
     "output_type": "error",
     "traceback": [
      "\u001b[0;31m---------------------------------------------------------------------------\u001b[0m",
      "\u001b[0;31mJSONDecodeError\u001b[0m                           Traceback (most recent call last)",
      "File \u001b[0;32m~/Desktop/Work/Softwares/anaconda3/envs/crypto_dashboard/lib/python3.12/site-packages/requests/models.py:960\u001b[0m, in \u001b[0;36mResponse.json\u001b[0;34m(self, **kwargs)\u001b[0m\n\u001b[1;32m    959\u001b[0m \u001b[38;5;28;01mtry\u001b[39;00m:\n\u001b[0;32m--> 960\u001b[0m     \u001b[38;5;28;01mreturn\u001b[39;00m \u001b[43mcomplexjson\u001b[49m\u001b[38;5;241;43m.\u001b[39;49m\u001b[43mloads\u001b[49m\u001b[43m(\u001b[49m\u001b[38;5;28;43mself\u001b[39;49m\u001b[38;5;241;43m.\u001b[39;49m\u001b[43mcontent\u001b[49m\u001b[38;5;241;43m.\u001b[39;49m\u001b[43mdecode\u001b[49m\u001b[43m(\u001b[49m\u001b[43mencoding\u001b[49m\u001b[43m)\u001b[49m\u001b[43m,\u001b[49m\u001b[43m \u001b[49m\u001b[38;5;241;43m*\u001b[39;49m\u001b[38;5;241;43m*\u001b[39;49m\u001b[43mkwargs\u001b[49m\u001b[43m)\u001b[49m\n\u001b[1;32m    961\u001b[0m \u001b[38;5;28;01mexcept\u001b[39;00m \u001b[38;5;167;01mUnicodeDecodeError\u001b[39;00m:\n\u001b[1;32m    962\u001b[0m     \u001b[38;5;66;03m# Wrong UTF codec detected; usually because it's not UTF-8\u001b[39;00m\n\u001b[1;32m    963\u001b[0m     \u001b[38;5;66;03m# but some other 8-bit codec.  This is an RFC violation,\u001b[39;00m\n\u001b[1;32m    964\u001b[0m     \u001b[38;5;66;03m# and the server didn't bother to tell us what codec *was*\u001b[39;00m\n\u001b[1;32m    965\u001b[0m     \u001b[38;5;66;03m# used.\u001b[39;00m\n",
      "File \u001b[0;32m~/Desktop/Work/Softwares/anaconda3/envs/crypto_dashboard/lib/python3.12/json/__init__.py:346\u001b[0m, in \u001b[0;36mloads\u001b[0;34m(s, cls, object_hook, parse_float, parse_int, parse_constant, object_pairs_hook, **kw)\u001b[0m\n\u001b[1;32m    343\u001b[0m \u001b[38;5;28;01mif\u001b[39;00m (\u001b[38;5;28mcls\u001b[39m \u001b[38;5;129;01mis\u001b[39;00m \u001b[38;5;28;01mNone\u001b[39;00m \u001b[38;5;129;01mand\u001b[39;00m object_hook \u001b[38;5;129;01mis\u001b[39;00m \u001b[38;5;28;01mNone\u001b[39;00m \u001b[38;5;129;01mand\u001b[39;00m\n\u001b[1;32m    344\u001b[0m         parse_int \u001b[38;5;129;01mis\u001b[39;00m \u001b[38;5;28;01mNone\u001b[39;00m \u001b[38;5;129;01mand\u001b[39;00m parse_float \u001b[38;5;129;01mis\u001b[39;00m \u001b[38;5;28;01mNone\u001b[39;00m \u001b[38;5;129;01mand\u001b[39;00m\n\u001b[1;32m    345\u001b[0m         parse_constant \u001b[38;5;129;01mis\u001b[39;00m \u001b[38;5;28;01mNone\u001b[39;00m \u001b[38;5;129;01mand\u001b[39;00m object_pairs_hook \u001b[38;5;129;01mis\u001b[39;00m \u001b[38;5;28;01mNone\u001b[39;00m \u001b[38;5;129;01mand\u001b[39;00m \u001b[38;5;129;01mnot\u001b[39;00m kw):\n\u001b[0;32m--> 346\u001b[0m     \u001b[38;5;28;01mreturn\u001b[39;00m \u001b[43m_default_decoder\u001b[49m\u001b[38;5;241;43m.\u001b[39;49m\u001b[43mdecode\u001b[49m\u001b[43m(\u001b[49m\u001b[43ms\u001b[49m\u001b[43m)\u001b[49m\n\u001b[1;32m    347\u001b[0m \u001b[38;5;28;01mif\u001b[39;00m \u001b[38;5;28mcls\u001b[39m \u001b[38;5;129;01mis\u001b[39;00m \u001b[38;5;28;01mNone\u001b[39;00m:\n",
      "File \u001b[0;32m~/Desktop/Work/Softwares/anaconda3/envs/crypto_dashboard/lib/python3.12/json/decoder.py:337\u001b[0m, in \u001b[0;36mJSONDecoder.decode\u001b[0;34m(self, s, _w)\u001b[0m\n\u001b[1;32m    333\u001b[0m \u001b[38;5;250m\u001b[39m\u001b[38;5;124;03m\"\"\"Return the Python representation of ``s`` (a ``str`` instance\u001b[39;00m\n\u001b[1;32m    334\u001b[0m \u001b[38;5;124;03mcontaining a JSON document).\u001b[39;00m\n\u001b[1;32m    335\u001b[0m \n\u001b[1;32m    336\u001b[0m \u001b[38;5;124;03m\"\"\"\u001b[39;00m\n\u001b[0;32m--> 337\u001b[0m obj, end \u001b[38;5;241m=\u001b[39m \u001b[38;5;28;43mself\u001b[39;49m\u001b[38;5;241;43m.\u001b[39;49m\u001b[43mraw_decode\u001b[49m\u001b[43m(\u001b[49m\u001b[43ms\u001b[49m\u001b[43m,\u001b[49m\u001b[43m \u001b[49m\u001b[43midx\u001b[49m\u001b[38;5;241;43m=\u001b[39;49m\u001b[43m_w\u001b[49m\u001b[43m(\u001b[49m\u001b[43ms\u001b[49m\u001b[43m,\u001b[49m\u001b[43m \u001b[49m\u001b[38;5;241;43m0\u001b[39;49m\u001b[43m)\u001b[49m\u001b[38;5;241;43m.\u001b[39;49m\u001b[43mend\u001b[49m\u001b[43m(\u001b[49m\u001b[43m)\u001b[49m\u001b[43m)\u001b[49m\n\u001b[1;32m    338\u001b[0m end \u001b[38;5;241m=\u001b[39m _w(s, end)\u001b[38;5;241m.\u001b[39mend()\n",
      "File \u001b[0;32m~/Desktop/Work/Softwares/anaconda3/envs/crypto_dashboard/lib/python3.12/json/decoder.py:355\u001b[0m, in \u001b[0;36mJSONDecoder.raw_decode\u001b[0;34m(self, s, idx)\u001b[0m\n\u001b[1;32m    354\u001b[0m \u001b[38;5;28;01mexcept\u001b[39;00m \u001b[38;5;167;01mStopIteration\u001b[39;00m \u001b[38;5;28;01mas\u001b[39;00m err:\n\u001b[0;32m--> 355\u001b[0m     \u001b[38;5;28;01mraise\u001b[39;00m JSONDecodeError(\u001b[38;5;124m\"\u001b[39m\u001b[38;5;124mExpecting value\u001b[39m\u001b[38;5;124m\"\u001b[39m, s, err\u001b[38;5;241m.\u001b[39mvalue) \u001b[38;5;28;01mfrom\u001b[39;00m \u001b[38;5;28;01mNone\u001b[39;00m\n\u001b[1;32m    356\u001b[0m \u001b[38;5;28;01mreturn\u001b[39;00m obj, end\n",
      "\u001b[0;31mJSONDecodeError\u001b[0m: Expecting value: line 1 column 1 (char 0)",
      "\nDuring handling of the above exception, another exception occurred:\n",
      "\u001b[0;31mJSONDecodeError\u001b[0m                           Traceback (most recent call last)",
      "Cell \u001b[0;32mIn[14], line 3\u001b[0m\n\u001b[1;32m      1\u001b[0m API_KEY \u001b[38;5;241m=\u001b[39m \u001b[38;5;124m'\u001b[39m\u001b[38;5;124mGN6FOS7T3JC4GEI0\u001b[39m\u001b[38;5;124m'\u001b[39m\n\u001b[0;32m----> 3\u001b[0m stock_list \u001b[38;5;241m=\u001b[39m \u001b[43mget_all_stock_tickers\u001b[49m\u001b[43m(\u001b[49m\u001b[43mAPI_KEY\u001b[49m\u001b[43m)\u001b[49m\n",
      "Cell \u001b[0;32mIn[12], line 4\u001b[0m, in \u001b[0;36mget_all_stock_tickers\u001b[0;34m(api_key)\u001b[0m\n\u001b[1;32m      2\u001b[0m url \u001b[38;5;241m=\u001b[39m \u001b[38;5;124mf\u001b[39m\u001b[38;5;124m'\u001b[39m\u001b[38;5;124mhttps://www.alphavantage.co/query?function=LISTING_STATUS&apikey=\u001b[39m\u001b[38;5;132;01m{\u001b[39;00mapi_key\u001b[38;5;132;01m}\u001b[39;00m\u001b[38;5;124m'\u001b[39m\n\u001b[1;32m      3\u001b[0m response \u001b[38;5;241m=\u001b[39m requests\u001b[38;5;241m.\u001b[39mget(url)\n\u001b[0;32m----> 4\u001b[0m data \u001b[38;5;241m=\u001b[39m \u001b[43mresponse\u001b[49m\u001b[38;5;241;43m.\u001b[39;49m\u001b[43mjson\u001b[49m\u001b[43m(\u001b[49m\u001b[43m)\u001b[49m\n\u001b[1;32m      6\u001b[0m \u001b[38;5;66;03m# Convert to DataFrame\u001b[39;00m\n\u001b[1;32m      7\u001b[0m stock_list \u001b[38;5;241m=\u001b[39m pd\u001b[38;5;241m.\u001b[39mDataFrame(data)\n",
      "File \u001b[0;32m~/Desktop/Work/Softwares/anaconda3/envs/crypto_dashboard/lib/python3.12/site-packages/requests/models.py:968\u001b[0m, in \u001b[0;36mResponse.json\u001b[0;34m(self, **kwargs)\u001b[0m\n\u001b[1;32m    966\u001b[0m             \u001b[38;5;28;01mpass\u001b[39;00m\n\u001b[1;32m    967\u001b[0m         \u001b[38;5;28;01mexcept\u001b[39;00m JSONDecodeError \u001b[38;5;28;01mas\u001b[39;00m e:\n\u001b[0;32m--> 968\u001b[0m             \u001b[38;5;28;01mraise\u001b[39;00m RequestsJSONDecodeError(e\u001b[38;5;241m.\u001b[39mmsg, e\u001b[38;5;241m.\u001b[39mdoc, e\u001b[38;5;241m.\u001b[39mpos)\n\u001b[1;32m    970\u001b[0m \u001b[38;5;28;01mtry\u001b[39;00m:\n\u001b[1;32m    971\u001b[0m     \u001b[38;5;28;01mreturn\u001b[39;00m complexjson\u001b[38;5;241m.\u001b[39mloads(\u001b[38;5;28mself\u001b[39m\u001b[38;5;241m.\u001b[39mtext, \u001b[38;5;241m*\u001b[39m\u001b[38;5;241m*\u001b[39mkwargs)\n",
      "\u001b[0;31mJSONDecodeError\u001b[0m: Expecting value: line 1 column 1 (char 0)"
     ]
    }
   ],
   "source": [
    "API_KEY = 'GN6FOS7T3JC4GEI0'\n",
    "stock_list = get_all_stock_tickers(API_KEY)"
   ]
  },
  {
   "cell_type": "code",
   "execution_count": null,
   "metadata": {},
   "outputs": [],
   "source": [
    "historical_data = get_stock_data('AAPL')\n"
   ]
  }
 ],
 "metadata": {
  "kernelspec": {
   "display_name": "crypto_dashboard",
   "language": "python",
   "name": "python3"
  },
  "language_info": {
   "codemirror_mode": {
    "name": "ipython",
    "version": 3
   },
   "file_extension": ".py",
   "mimetype": "text/x-python",
   "name": "python",
   "nbconvert_exporter": "python",
   "pygments_lexer": "ipython3",
   "version": "3.12.2"
  }
 },
 "nbformat": 4,
 "nbformat_minor": 2
}
